{
 "cells": [
  {
   "cell_type": "code",
   "execution_count": null,
   "metadata": {},
   "outputs": [],
   "source": [
    "import pandas as pd\n",
    "df = pd.read_csv(\"catalog.csv\")"
   ]
  },
  {
   "cell_type": "code",
   "execution_count": null,
   "metadata": {},
   "outputs": [],
   "source": [
    "df.head()"
   ]
  },
  {
   "cell_type": "code",
   "execution_count": null,
   "metadata": {},
   "outputs": [],
   "source": [
    "df = df[df['file_extension'].isin(['.doc', '.docx'])]"
   ]
  },
  {
   "cell_type": "code",
   "execution_count": null,
   "metadata": {},
   "outputs": [],
   "source": [
    "df['file_path'] = '/media/monlamai/SSD/LLM-corpus/' + df['file_path']"
   ]
  },
  {
   "cell_type": "code",
   "execution_count": null,
   "metadata": {},
   "outputs": [],
   "source": [
    "df.iloc[0]['file_path']"
   ]
  },
  {
   "cell_type": "code",
   "execution_count": null,
   "metadata": {},
   "outputs": [],
   "source": [
    "# file = '/media/monlamai/SSD/LLM-corpus/Tsepak-2023-100/LM000004.docx'\n",
    "\n",
    "file = '/media/monlamai/SSD/LLM-corpus/Tsepak-2023-100/LM000000.doc'"
   ]
  },
  {
   "cell_type": "code",
   "execution_count": null,
   "metadata": {},
   "outputs": [],
   "source": [
    "from spire.doc import *\n",
    "from spire.doc.common import *\n",
    "\n",
    "# Create an object of the Document class\n",
    "document = Document()\n",
    "# Load a Word DOC file\n",
    "document.LoadFromFile(file)\n",
    "\n",
    "# Save the DOC file to DOCX format\n",
    "document.SaveToFile(file.replace('.doc', '.docx'), FileFormat.Docx2016)\n",
    "# Close the Document object\n",
    "document.Close()"
   ]
  },
  {
   "cell_type": "code",
   "execution_count": null,
   "metadata": {},
   "outputs": [],
   "source": [
    "from docx import Document\n",
    "from docx.shared import Pt\n",
    "from docx.enum.text import WD_ALIGN_PARAGRAPH\n",
    "\n",
    "# Open an existing document\n",
    "doc = Document(file.replace('.doc', '.docx'))\n",
    "\n",
    "fullText = []\n",
    "for para in doc.paragraphs:\n",
    "    fullText.append(para.text)\n",
    "print('\\n'.join(fullText))"
   ]
  }
 ],
 "metadata": {
  "kernelspec": {
   "display_name": ".env",
   "language": "python",
   "name": "python3"
  },
  "language_info": {
   "codemirror_mode": {
    "name": "ipython",
    "version": 3
   },
   "file_extension": ".py",
   "mimetype": "text/x-python",
   "name": "python",
   "nbconvert_exporter": "python",
   "pygments_lexer": "ipython3",
   "version": "3.10.12"
  }
 },
 "nbformat": 4,
 "nbformat_minor": 2
}
