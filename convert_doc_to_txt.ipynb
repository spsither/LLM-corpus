{
 "cells": [
  {
   "cell_type": "code",
   "execution_count": 2,
   "metadata": {},
   "outputs": [],
   "source": [
    "import pandas as pd\n",
    "df = pd.read_csv(\"catalog.csv\")"
   ]
  },
  {
   "cell_type": "code",
   "execution_count": null,
   "metadata": {},
   "outputs": [],
   "source": []
  },
  {
   "cell_type": "code",
   "execution_count": 3,
   "metadata": {},
   "outputs": [],
   "source": [
    "df = df[df['file_extension'].isin(['.doc', '.docx'])]"
   ]
  },
  {
   "cell_type": "code",
   "execution_count": 4,
   "metadata": {},
   "outputs": [
    {
     "data": {
      "text/html": [
       "<div>\n",
       "<style scoped>\n",
       "    .dataframe tbody tr th:only-of-type {\n",
       "        vertical-align: middle;\n",
       "    }\n",
       "\n",
       "    .dataframe tbody tr th {\n",
       "        vertical-align: top;\n",
       "    }\n",
       "\n",
       "    .dataframe thead th {\n",
       "        text-align: right;\n",
       "    }\n",
       "</style>\n",
       "<table border=\"1\" class=\"dataframe\">\n",
       "  <thead>\n",
       "    <tr style=\"text-align: right;\">\n",
       "      <th></th>\n",
       "      <th>file_id</th>\n",
       "      <th>file_name</th>\n",
       "      <th>file_path</th>\n",
       "      <th>file_type</th>\n",
       "      <th>file_extension</th>\n",
       "      <th>file_size_in_bytes</th>\n",
       "      <th>original_file_name</th>\n",
       "      <th>original_file_path</th>\n",
       "    </tr>\n",
       "  </thead>\n",
       "  <tbody>\n",
       "    <tr>\n",
       "      <th>0</th>\n",
       "      <td>LM000000</td>\n",
       "      <td>LM000000.doc</td>\n",
       "      <td>Tsepak-2023-100/LM000000.doc</td>\n",
       "      <td>application/msword</td>\n",
       "      <td>.doc</td>\n",
       "      <td>775168</td>\n",
       "      <td>01.doc</td>\n",
       "      <td>Tsepak-2023-100/01.doc</td>\n",
       "    </tr>\n",
       "    <tr>\n",
       "      <th>1</th>\n",
       "      <td>LM000001</td>\n",
       "      <td>LM000001.doc</td>\n",
       "      <td>Tsepak-2023-100/LM000001.doc</td>\n",
       "      <td>application/msword</td>\n",
       "      <td>.doc</td>\n",
       "      <td>1076224</td>\n",
       "      <td>02.doc</td>\n",
       "      <td>Tsepak-2023-100/02.doc</td>\n",
       "    </tr>\n",
       "    <tr>\n",
       "      <th>2</th>\n",
       "      <td>LM000002</td>\n",
       "      <td>LM000002.doc</td>\n",
       "      <td>Tsepak-2023-100/LM000002.doc</td>\n",
       "      <td>application/msword</td>\n",
       "      <td>.doc</td>\n",
       "      <td>874496</td>\n",
       "      <td>03.doc</td>\n",
       "      <td>Tsepak-2023-100/03.doc</td>\n",
       "    </tr>\n",
       "    <tr>\n",
       "      <th>3</th>\n",
       "      <td>LM000003</td>\n",
       "      <td>LM000003.doc</td>\n",
       "      <td>Tsepak-2023-100/LM000003.doc</td>\n",
       "      <td>application/msword</td>\n",
       "      <td>.doc</td>\n",
       "      <td>860672</td>\n",
       "      <td>1 འབྲི་གུང་སྤོས་ཀྱི་རྒྱུད་འཛིན་པའི་ངག་བརྗོད་ལོ...</td>\n",
       "      <td>Tsepak-2023-100/1 འབྲི་གུང་སྤོས་ཀྱི་རྒྱུད་འཛིན...</td>\n",
       "    </tr>\n",
       "    <tr>\n",
       "      <th>4</th>\n",
       "      <td>LM000004</td>\n",
       "      <td>LM000004.docx</td>\n",
       "      <td>Tsepak-2023-100/LM000004.docx</td>\n",
       "      <td>application/vnd.openxmlformats-officedocument....</td>\n",
       "      <td>.docx</td>\n",
       "      <td>570723</td>\n",
       "      <td>1) དུས་འཁོར་ཉམས་ཞིབ། ཀ) ཆོས་འབྱུང་། ༢༠༢༡.docx</td>\n",
       "      <td>Tsepak-2023-100/1) དུས་འཁོར་ཉམས་ཞིབ། ཀ) ཆོས་འབ...</td>\n",
       "    </tr>\n",
       "  </tbody>\n",
       "</table>\n",
       "</div>"
      ],
      "text/plain": [
       "    file_id      file_name                      file_path  \\\n",
       "0  LM000000   LM000000.doc   Tsepak-2023-100/LM000000.doc   \n",
       "1  LM000001   LM000001.doc   Tsepak-2023-100/LM000001.doc   \n",
       "2  LM000002   LM000002.doc   Tsepak-2023-100/LM000002.doc   \n",
       "3  LM000003   LM000003.doc   Tsepak-2023-100/LM000003.doc   \n",
       "4  LM000004  LM000004.docx  Tsepak-2023-100/LM000004.docx   \n",
       "\n",
       "                                           file_type file_extension  \\\n",
       "0                                 application/msword           .doc   \n",
       "1                                 application/msword           .doc   \n",
       "2                                 application/msword           .doc   \n",
       "3                                 application/msword           .doc   \n",
       "4  application/vnd.openxmlformats-officedocument....          .docx   \n",
       "\n",
       "   file_size_in_bytes                                 original_file_name  \\\n",
       "0              775168                                             01.doc   \n",
       "1             1076224                                             02.doc   \n",
       "2              874496                                             03.doc   \n",
       "3              860672  1 འབྲི་གུང་སྤོས་ཀྱི་རྒྱུད་འཛིན་པའི་ངག་བརྗོད་ལོ...   \n",
       "4              570723      1) དུས་འཁོར་ཉམས་ཞིབ། ཀ) ཆོས་འབྱུང་། ༢༠༢༡.docx   \n",
       "\n",
       "                                  original_file_path  \n",
       "0                             Tsepak-2023-100/01.doc  \n",
       "1                             Tsepak-2023-100/02.doc  \n",
       "2                             Tsepak-2023-100/03.doc  \n",
       "3  Tsepak-2023-100/1 འབྲི་གུང་སྤོས་ཀྱི་རྒྱུད་འཛིན...  \n",
       "4  Tsepak-2023-100/1) དུས་འཁོར་ཉམས་ཞིབ། ཀ) ཆོས་འབ...  "
      ]
     },
     "execution_count": 4,
     "metadata": {},
     "output_type": "execute_result"
    }
   ],
   "source": [
    "df.head()"
   ]
  },
  {
   "cell_type": "code",
   "execution_count": 5,
   "metadata": {},
   "outputs": [],
   "source": [
    "df['file_path'] = '/media/monlamai/SSD/LLM-corpus/' + df['file_path']"
   ]
  },
  {
   "cell_type": "code",
   "execution_count": 6,
   "metadata": {},
   "outputs": [],
   "source": [
    "from spire.doc import *\n",
    "from spire.doc.common import *\n",
    "\n",
    "def read_doc(file):\n",
    "    document = Document()\n",
    "    document.LoadFromFile(file)\n",
    "    txt = document.GetText()\n",
    "    return txt\n",
    "\n",
    "import docx\n",
    "def read_docx(file):\n",
    "    doc = docx.Document(file)\n",
    "    fullText = []\n",
    "    for para in doc.paragraphs:\n",
    "        fullText.append(para.text)\n",
    "    return '\\n'.join(fullText)\n",
    "\n",
    "def read_doc_docx(file):\n",
    "    if file.endswith('.doc'):\n",
    "        txt = read_doc(file)\n",
    "    elif file.endswith('.docx'):\n",
    "        txt = read_docx(file)\n",
    "    else:\n",
    "        txt = None\n",
    "    txt = txt.replace('Evaluation Warning: The document was created with Spire.Doc for Python.\\r\\n', '')\n",
    "    return txt\n"
   ]
  },
  {
   "cell_type": "code",
   "execution_count": 7,
   "metadata": {},
   "outputs": [],
   "source": [
    "def write_txt(file, txt):\n",
    "    with open(file, 'w') as f:\n",
    "        f.write(txt)\n",
    "\n",
    "txt_dir = '/media/monlamai/SSD/LLM-corpus/only_txt/'\n",
    "\n",
    "password_protected = ['/media/monlamai/SSD/LLM-corpus/Tsepak-2023-100/LM000594.docx', '/media/monlamai/SSD/LLM-corpus/Tsepak-2023-100/1-དཔེ་བསྡུར་མ།/1/LM003869.docx','/media/monlamai/SSD/LLM-corpus/Tsepak-2023-100/2010-10-22བཀའ་བསྟན་རིན་ཆེན་བང་མཛོད།/20-དཔྱད་རྩོམ།/སྨན་དཔྱད།/LM009453.docx', '/media/monlamai/SSD/LLM-corpus/Tsepak-2023-100/2010-10-22བཀའ་བསྟན་རིན་ཆེན་བང་མཛོད།/2010-8-4བསྟན་འགྱུར་ཕྱོཊ་བསྡུས།/བསྟན་འགྱུར་སྡེ་ཚན་ཁག་སོ་སོ།/བསྟན་འགྱུར་ལས་ཚད་མའི་སྐོར།/བསྟན་འགྱུར།sssssssss/LM009973.docx','/media/monlamai/SSD/LLM-corpus/Tsepak-2023-100/2010-10-22བཀའ་བསྟན་རིན་ཆེན་བང་མཛོད།/2010-8-4བསྟན་འགྱུར་ཕྱོཊ་བསྡུས།/བསྟན་འགྱུར་སྡེ་ཚན་ཁག་སོ་སོ།/བསྟན་འགྱུར་ལས་ཚད་མའི་སྐོར།/བསྟན་འགྱུར།sssssssss/LM009973.docx','/media/monlamai/SSD/LLM-corpus/Tsepak-2023-100/2010-10-22བཀའ་བསྟན་རིན་ཆེན་བང་མཛོད།/8-གསུང་འབུམ།/3-བཀའ་བརྒྱུད།/LM010502.docx']\n",
    "def convert_doc_to_txt(file):\n",
    "    if file in password_protected:\n",
    "        return\n",
    "    print(file)\n",
    "    txt_file = os.path.join(txt_dir, os.path.basename(file).replace('.docx', '.txt').replace('.doc', '.txt'))\n",
    "    if os.path.exists(txt_file):\n",
    "        return\n",
    "    try:\n",
    "\n",
    "        txt = read_doc_docx(file)\n",
    "        write_txt(txt_file, txt)\n",
    "    except:\n",
    "        print('error')\n",
    "        return\n",
    "    "
   ]
  },
  {
   "cell_type": "code",
   "execution_count": 8,
   "metadata": {},
   "outputs": [
    {
     "ename": "",
     "evalue": "",
     "output_type": "error",
     "traceback": [
      "\u001b[1;31mThe Kernel crashed while executing code in the the current cell or a previous cell. Please review the code in the cell(s) to identify a possible cause of the failure. Click <a href='https://aka.ms/vscodeJupyterKernelCrash'>here</a> for more info. View Jupyter <a href='command:jupyter.viewOutput'>log</a> for further details."
     ]
    }
   ],
   "source": [
    "df['text'] = df['file_path'].apply(convert_doc_to_txt)"
   ]
  },
  {
   "cell_type": "code",
   "execution_count": null,
   "metadata": {},
   "outputs": [],
   "source": []
  },
  {
   "cell_type": "code",
   "execution_count": null,
   "metadata": {},
   "outputs": [],
   "source": []
  },
  {
   "cell_type": "code",
   "execution_count": null,
   "metadata": {},
   "outputs": [],
   "source": []
  }
 ],
 "metadata": {
  "kernelspec": {
   "display_name": ".env",
   "language": "python",
   "name": "python3"
  },
  "language_info": {
   "codemirror_mode": {
    "name": "ipython",
    "version": 3
   },
   "file_extension": ".py",
   "mimetype": "text/x-python",
   "name": "python",
   "nbconvert_exporter": "python",
   "pygments_lexer": "ipython3",
   "version": "3.10.12"
  }
 },
 "nbformat": 4,
 "nbformat_minor": 2
}
