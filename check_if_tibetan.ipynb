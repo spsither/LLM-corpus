{
 "cells": [
  {
   "cell_type": "code",
   "execution_count": 1,
   "metadata": {},
   "outputs": [
    {
     "data": {
      "text/html": [
       "<div>\n",
       "<style scoped>\n",
       "    .dataframe tbody tr th:only-of-type {\n",
       "        vertical-align: middle;\n",
       "    }\n",
       "\n",
       "    .dataframe tbody tr th {\n",
       "        vertical-align: top;\n",
       "    }\n",
       "\n",
       "    .dataframe thead th {\n",
       "        text-align: right;\n",
       "    }\n",
       "</style>\n",
       "<table border=\"1\" class=\"dataframe\">\n",
       "  <thead>\n",
       "    <tr style=\"text-align: right;\">\n",
       "      <th></th>\n",
       "      <th>file_id</th>\n",
       "      <th>file_name</th>\n",
       "      <th>file_path</th>\n",
       "      <th>file_type</th>\n",
       "      <th>file_extension</th>\n",
       "      <th>file_size_in_bytes</th>\n",
       "      <th>original_file_name</th>\n",
       "      <th>original_file_path</th>\n",
       "    </tr>\n",
       "  </thead>\n",
       "  <tbody>\n",
       "    <tr>\n",
       "      <th>0</th>\n",
       "      <td>LM000000</td>\n",
       "      <td>LM000000.doc</td>\n",
       "      <td>Tsepak-2023-100/LM000000.doc</td>\n",
       "      <td>application/msword</td>\n",
       "      <td>.doc</td>\n",
       "      <td>775168</td>\n",
       "      <td>01.doc</td>\n",
       "      <td>Tsepak-2023-100/01.doc</td>\n",
       "    </tr>\n",
       "    <tr>\n",
       "      <th>1</th>\n",
       "      <td>LM000001</td>\n",
       "      <td>LM000001.doc</td>\n",
       "      <td>Tsepak-2023-100/LM000001.doc</td>\n",
       "      <td>application/msword</td>\n",
       "      <td>.doc</td>\n",
       "      <td>1076224</td>\n",
       "      <td>02.doc</td>\n",
       "      <td>Tsepak-2023-100/02.doc</td>\n",
       "    </tr>\n",
       "    <tr>\n",
       "      <th>2</th>\n",
       "      <td>LM000002</td>\n",
       "      <td>LM000002.doc</td>\n",
       "      <td>Tsepak-2023-100/LM000002.doc</td>\n",
       "      <td>application/msword</td>\n",
       "      <td>.doc</td>\n",
       "      <td>874496</td>\n",
       "      <td>03.doc</td>\n",
       "      <td>Tsepak-2023-100/03.doc</td>\n",
       "    </tr>\n",
       "    <tr>\n",
       "      <th>3</th>\n",
       "      <td>LM000003</td>\n",
       "      <td>LM000003.doc</td>\n",
       "      <td>Tsepak-2023-100/LM000003.doc</td>\n",
       "      <td>application/msword</td>\n",
       "      <td>.doc</td>\n",
       "      <td>860672</td>\n",
       "      <td>1 འབྲི་གུང་སྤོས་ཀྱི་རྒྱུད་འཛིན་པའི་ངག་བརྗོད་ལོ...</td>\n",
       "      <td>Tsepak-2023-100/1 འབྲི་གུང་སྤོས་ཀྱི་རྒྱུད་འཛིན...</td>\n",
       "    </tr>\n",
       "    <tr>\n",
       "      <th>4</th>\n",
       "      <td>LM000004</td>\n",
       "      <td>LM000004.docx</td>\n",
       "      <td>Tsepak-2023-100/LM000004.docx</td>\n",
       "      <td>application/vnd.openxmlformats-officedocument....</td>\n",
       "      <td>.docx</td>\n",
       "      <td>570723</td>\n",
       "      <td>1) དུས་འཁོར་ཉམས་ཞིབ། ཀ) ཆོས་འབྱུང་། ༢༠༢༡.docx</td>\n",
       "      <td>Tsepak-2023-100/1) དུས་འཁོར་ཉམས་ཞིབ། ཀ) ཆོས་འབ...</td>\n",
       "    </tr>\n",
       "  </tbody>\n",
       "</table>\n",
       "</div>"
      ],
      "text/plain": [
       "    file_id      file_name                      file_path  \\\n",
       "0  LM000000   LM000000.doc   Tsepak-2023-100/LM000000.doc   \n",
       "1  LM000001   LM000001.doc   Tsepak-2023-100/LM000001.doc   \n",
       "2  LM000002   LM000002.doc   Tsepak-2023-100/LM000002.doc   \n",
       "3  LM000003   LM000003.doc   Tsepak-2023-100/LM000003.doc   \n",
       "4  LM000004  LM000004.docx  Tsepak-2023-100/LM000004.docx   \n",
       "\n",
       "                                           file_type file_extension  \\\n",
       "0                                 application/msword           .doc   \n",
       "1                                 application/msword           .doc   \n",
       "2                                 application/msword           .doc   \n",
       "3                                 application/msword           .doc   \n",
       "4  application/vnd.openxmlformats-officedocument....          .docx   \n",
       "\n",
       "   file_size_in_bytes                                 original_file_name  \\\n",
       "0              775168                                             01.doc   \n",
       "1             1076224                                             02.doc   \n",
       "2              874496                                             03.doc   \n",
       "3              860672  1 འབྲི་གུང་སྤོས་ཀྱི་རྒྱུད་འཛིན་པའི་ངག་བརྗོད་ལོ...   \n",
       "4              570723      1) དུས་འཁོར་ཉམས་ཞིབ། ཀ) ཆོས་འབྱུང་། ༢༠༢༡.docx   \n",
       "\n",
       "                                  original_file_path  \n",
       "0                             Tsepak-2023-100/01.doc  \n",
       "1                             Tsepak-2023-100/02.doc  \n",
       "2                             Tsepak-2023-100/03.doc  \n",
       "3  Tsepak-2023-100/1 འབྲི་གུང་སྤོས་ཀྱི་རྒྱུད་འཛིན...  \n",
       "4  Tsepak-2023-100/1) དུས་འཁོར་ཉམས་ཞིབ། ཀ) ཆོས་འབ...  "
      ]
     },
     "execution_count": 1,
     "metadata": {},
     "output_type": "execute_result"
    }
   ],
   "source": [
    "import pandas as pd\n",
    "df = pd.read_csv('catalog.csv')\n",
    "df.head()"
   ]
  },
  {
   "cell_type": "code",
   "execution_count": 5,
   "metadata": {},
   "outputs": [],
   "source": [
    "df = df[df['file_extension'].isin(['.txt'])]"
   ]
  },
  {
   "cell_type": "code",
   "execution_count": 13,
   "metadata": {},
   "outputs": [
    {
     "name": "stdout",
     "output_type": "stream",
     "text": [
      "\u000f \u0000^\u000ft\u000f\u000b\u000fF\u000fz\u000fS\u000f\u000b\u000fB\u000f�\u000fr\u000f\u000b\u000fc\u000f|\u000f\u000b\u000fY\u000fq\u000f\u000b\u000fV\u000f\u000b\u000fV\u000fS\u000f�\u000fz\u000f\u000b\u000fa\u000fz\u000f\u000b\u000fd\u000fz\u000ff\u000f\u000b\u000ff\u000f�\u000fz\u000ff\u000f\u000b\u000fV\u000ff\u000f�\u000f�\u000ft\u000fb\u000f\u000b\u000fE\u000fr\u000fD\u000f\u000b\u000f^\u000ft\u000ff\u000f\u000b\u000fO\u000fz\u000f\u000b\u000fB\u000fO\u000fS\u000f\u000b\u000fc\u000f\u000b\u000fU\u000fV\u000f\u000b\u000fT\u000fB\u000f\u000b\u000fV\u000fb\u000f�\u000f�\u000f\u000b\u000fT\u000f\u000b\u000fc\u000ff\u000fQ\u000f\u000b\u000fQ\u000f|\u000fX\u000f\u000b\u000fB\u000f�\u000fD\u000ff\u000f\u000b\u000f`\u000fQ\u000fr\u000f\u000b\u000fa\u000fD\u000f\u000b\u000ff\u000fD\u000ff\u000f\u000b\u000fb\u000f�\u000f�\u000ff\u000f\u000b\u000f@\u000f�\u000fr\u000f\u000b\u000fF\u000f|\u000ff\u000f\u000b\u000fc\u000f\u000b\u000fd\u000fz\u000ff\u000f\u000b\u000fT\u000f\u000b\u000fQ\u000fD\u000f\f\u000fb\u000f\u000b\u000f`\u000fB\u000f�\u000ft\u000fb\u000f\u000b\u000fV\u000f\u000b\u000fQ\u000fz\u000f\u000b\u000fc\u000f�\u000f\u000b\u000fV\u000ft\u000f`\u000fr\u000f\u000b\u000f`\u000f|\u000fQ\u000f\u000b\u000f \u0000Q\u000fB\u000f\u000b\u000ff\u000f�\u000ft\u000f\u000b\u000fc\u000ff\u000f\u000b\u000fb\u000fV\u000f\u000b\u000fO\u000ft\u000f\u000b\u000fU\u000f�\u000ft\u000fD\u000f\u000b\u000fD\u000f|\u000f\f\u000fV\u000fE\u000f|\u000fX\u000f\u000b\u000fc\u000f�\u000fS\u000f\u000b\u000f`\u000fQ\u000ff\u000f\u000b\u000f@\u000f�\u000fr\u000f\u000b\u000f^\u000fV\u000ff\u000f\u000b\u000fc\u000f\u000b\u000fX\u000fB\u000f|\u000f\u000b\u000fV\u000f|\u000ff\u000f\u000b\u000fU\u000f�\u000fB\u000f\u000b\u000f`\u000fZ\u000fc\u000f\u000b\u000fO\u000fz\u000f\u000b\u000fV\u000fE\u000f|\u000fX\u000f\u000b\u000fc\u000f�\u000fS\u000f\u000b\u000f`\u000fQ\u000ff\u000f\u000b\u000fc\u000f\u000b\u000fc\u000fS\u000f\u000b\u000fB\u000ff\u000ft\u000fX\u000f\u000b\u000fV\u000ff\u000f�\u000f|\u000fb\u000f\u000b\u000fV\u000f\u000b\u000fV\u000f�\u000ff\u000f\u000b\u000fS\u000ff\u000f\u000b\u000fU\u000f�\u000f|\u000fB\u000ff\u000f\u000b\u000fB\u000fE\u000fr\u000fB\u000f\u000b\u000fO\u000ft\u000f\u000b\u000f`\u000fA\u000f|\u000fQ\u000f\u000b\u000fT\u000fb\u000f\u000b\u000fB\u000f�\u000ft\u000fb\u000f\u000b\u000fO\u000fz\u000f\u000b\u000fV\u000ff\u000f\u000b\u000fA\u000f�\u000fV\u000f\u000b\u000fT\u000fb\u000f\u000b\u000fV\u000f�\u000ff\u000f\u000b\u000fd\u000fr\u000fD\u000f\u000b\u000fc\u000f�\u000f`\u000fr\u000f\u000b\u000fX\u000fz\u000f\u000b\u000fO\u000f|\u000fB\u000f\u000b\u000fQ\u000fD\u000f\f\u000f"
     ]
    }
   ],
   "source": [
    "! cat only_txt/LM004926.txt"
   ]
  },
  {
   "cell_type": "code",
   "execution_count": 15,
   "metadata": {},
   "outputs": [
    {
     "data": {
      "text/plain": [
       "False"
      ]
     },
     "execution_count": 15,
     "metadata": {},
     "output_type": "execute_result"
    }
   ],
   "source": [
    "def only_english(file):\n",
    "    with open(file, 'r') as f:\n",
    "        text = f.read()\n",
    "        if text.isascii():\n",
    "            return True\n",
    "        else:\n",
    "            return False\n",
    "\n",
    "test_file = 'only_txt/LM004926.txt'\n",
    "test_file = 'only_txt/LM000000.txt'\n",
    "only_english(test_file)"
   ]
  },
  {
   "cell_type": "code",
   "execution_count": 11,
   "metadata": {},
   "outputs": [
    {
     "data": {
      "text/plain": [
       "'Tsepak-2023-100/2- ཚེ་དཔག་རྡོ་རྗེ་བཀའ་བསྟན། 2017-9-19/བཀའ་འགྱུར།/4. དཀོན་བརྩེགས།/དཀོན་བརྩེགས། ཁ།/LM004926.txt'"
      ]
     },
     "execution_count": 11,
     "metadata": {},
     "output_type": "execute_result"
    }
   ],
   "source": [
    "df.iloc[3]['file_path']"
   ]
  },
  {
   "cell_type": "code",
   "execution_count": null,
   "metadata": {},
   "outputs": [],
   "source": []
  }
 ],
 "metadata": {
  "kernelspec": {
   "display_name": ".env",
   "language": "python",
   "name": "python3"
  },
  "language_info": {
   "codemirror_mode": {
    "name": "ipython",
    "version": 3
   },
   "file_extension": ".py",
   "mimetype": "text/x-python",
   "name": "python",
   "nbconvert_exporter": "python",
   "pygments_lexer": "ipython3",
   "version": "3.10.12"
  }
 },
 "nbformat": 4,
 "nbformat_minor": 2
}
