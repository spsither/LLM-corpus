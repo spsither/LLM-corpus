{
 "cells": [
  {
   "cell_type": "markdown",
   "metadata": {},
   "source": [
    "## Todo\n",
    "- unzip all the *.zip files\n",
    "- remove all the .zip files and rename the files to file_id\n"
   ]
  },
  {
   "cell_type": "code",
   "execution_count": 14,
   "metadata": {},
   "outputs": [],
   "source": [
    "to_delete_ext = ['.pl' ,'.html' ,'.svg' ,'.h' ,'.lib' ,'.cgi' ,'.xml' ,'.php' ,'.css' ,'.js' ,'.scss' ,'.json' ,'.md' ,'.markdown' ,'.htm' ,'.yml' ,'.sh' ,'.sql' ,'.awk' ,'.inc' ,'.c' ,'.php5' ,'.twig' ,'.yaml' ,'.dpr' ,'.java' ,'.jsp' ,'.jspx' ,'.jspf' ,'.class' ,'.tag' ,'.xhtml' ,'.cpp' ,'.qrc' ,'.rc' ,'.C' ,'.s' ,'.phar' ,'.rst' ,'.diff' ,'.reg' ,'.xsl' ,'.php5' ,'.jar' ,'.properties' ,'.war' ,'.inf' ,'.gz' ,'.nsi' ,'.spec' ,'.pot' ,'.phpt' ,'.xs' ,'.dtd' ,'.tpl' ,'.py' ,'.rb' ,'.go' ,'.swift' ,'.r' ,'.lua' ,'.rs' ,'.kt' ,'.groovy' ,'.ts', '.exe', '.dll', '.c', '.LIB', '.fdb', '.PE2', '.properties', '.ALL', '.doc#', '.pem', '.fft', '.ix', '.P', '.reg', '.S', '.cnf', '.inc', '.crt', '.EPU', '.EX_', '.IND', '.PE1', '.pot', '.yml', '.s2', '.S2', '.opt', '.cpp', '.xls', '.xlsx', '.otf', '.e2x', '.log', '.icns', '.exp', '.eps', '.TG', '.TG1', '.dat', '.xhtml', '.0', '.idml', '.dtd', '.docx#', '.a', '.z', '.xsd', '.rar', '.IN_', '.HLP', '.COM', '.CSV', '.CSM', '.onetoc2', '.lst', '.DL_', '.dot', '.ep', '.HTT', '.pc', '.lock', '.TST', '.cdr', '.bs', '.OVR', '.types', '.AFE', '.TG2', '.tld', '.C', '.tag', '.2P', '.1P', '.wav', '.pid', '.epub', '.jspf', '.phar', '.3P', '.~po', '.inf', '.plist', '.ini-development', '.ini-production', '.SP', '.J2', '.sample', '.J1', '.5P', '.rtf#', '.rst', '.PE3', '.6P', '.info', '.TX_', '.2', '.mdb', '.asc', '.00000001', '.4P', '.markdown', '.words', '.001', '.cdr_的备份', '.cgi', '.1', '.com', '.key', '.conv', '.TIB', '.wll', '.BAT', '.jspx', '.pubkey', '.2WP', '.ld', '.GPLv2', '.AL2', '.AFC', '.GPLv3', '.FKB', '.7P', '.9P', '.8P', '.DVP', '.DLL', '.DO_', '.msg', '.10P', '.1PE', '.yaml', '.xst', '.233', '.24', '.2PE', '.qrc', '.ps', '.3', '.policy', '.nsi', '.php5', '.pfa', '.4', '.pages', '.4PE', '.LIBGLOSS', '.KS', '.5', '.INI', '.5PE', '.HIS', '.pkg', '.gz', '.tpl', '.ttc', '.upr', '.war', '.dpr', '.wbk', '.TAM', '.TEM', '.diff', '.dfont', '.dd', '.csr', '.T', '.TMP', '.TR1', '.TR2', '.bmp', '.bi_', '.b331cf8c', '.awk', '.ai', '.TRI', '.ZZIP', '.VSN', '.USR', '.TWS', '.TG3', '.mp3', '.mibs', '.mib', '.mes', '.BIN', '.BI_', '.ion', '.SKIP', '.SCR', '.CFG', '.rc', '.RUNTIME']"
   ]
  },
  {
   "cell_type": "code",
   "execution_count": 17,
   "metadata": {},
   "outputs": [],
   "source": [
    "import os\n",
    "\n",
    "# Specify the directory path you want to list files from\n",
    "\n",
    "folder_paths = ['/media/monlamai/Monlam SSD/E-Text']\n",
    "\n",
    "for folder_path in folder_paths:\n",
    "    for root, dirs, files in os.walk(folder_path):\n",
    "        for file in files:\n",
    "            # Concatenate the root directory and the file name to get the full path\n",
    "            full_path = os.path.join(root, file)\n",
    "\n",
    "            _, file_extension = os.path.splitext(file)\n",
    "\n",
    "            if file_extension in to_delete_ext:\n",
    "                print(full_path)\n",
    "                os.remove(full_path)\n",
    "            # if file_extension == '.htm':"
   ]
  },
  {
   "cell_type": "code",
   "execution_count": 23,
   "metadata": {},
   "outputs": [],
   "source": [
    "import os\n",
    "import mimetypes\n",
    "\n",
    "# Specify the directory path \n",
    "\n",
    "folder_paths = ['/media/monlamai/SSD/LLM-corpus/E-Text/']\n",
    "\n",
    "id = 105356\n",
    "catalog = []\n",
    "for folder_path in folder_paths:\n",
    "    for root, dirs, files in os.walk(folder_path):\n",
    "        for file in files:\n",
    "\n",
    "            # Concatenate the root directory and the file name to get the full path\n",
    "            full_path = os.path.join(root, file)\n",
    "            file_size = os.path.getsize(full_path)\n",
    "\n",
    "            file_type, _ = mimetypes.guess_type(full_path)\n",
    "\n",
    "            _, file_extension = os.path.splitext(file)\n",
    "\n",
    "            file_name = os.path.basename(full_path)\n",
    "\n",
    "            full_path = full_path.replace('/media/monlamai/Monlam SSD/', '')\n",
    "            # Print the full path and file type\n",
    "\n",
    "            file_id = f\"LM{id:06d}\"\n",
    "            id += 1\n",
    "\n",
    "            old_file = os.path.join(root, file)\n",
    "            new_file = os.path.join(root, file_id + file_extension)\n",
    "\n",
    "            # Rename the file\n",
    "            os.rename(old_file, new_file)\n",
    "            # print(old_file, new_file)\n",
    "            catalog.append([file_id, file_name, full_path, file_type or 'Unknown', file_extension, file_size])"
   ]
  },
  {
   "cell_type": "code",
   "execution_count": 24,
   "metadata": {},
   "outputs": [],
   "source": [
    "import pandas as pd\n",
    "\n",
    "df = pd.DataFrame(catalog, columns=['file_id', 'file_name', 'file_path', 'file_type', 'file_extension', 'file_size_in_bytes'])"
   ]
  },
  {
   "cell_type": "code",
   "execution_count": 26,
   "metadata": {},
   "outputs": [
    {
     "data": {
      "text/html": [
       "<div>\n",
       "<style scoped>\n",
       "    .dataframe tbody tr th:only-of-type {\n",
       "        vertical-align: middle;\n",
       "    }\n",
       "\n",
       "    .dataframe tbody tr th {\n",
       "        vertical-align: top;\n",
       "    }\n",
       "\n",
       "    .dataframe thead th {\n",
       "        text-align: right;\n",
       "    }\n",
       "</style>\n",
       "<table border=\"1\" class=\"dataframe\">\n",
       "  <thead>\n",
       "    <tr style=\"text-align: right;\">\n",
       "      <th></th>\n",
       "      <th>file_id</th>\n",
       "      <th>file_name</th>\n",
       "      <th>file_path</th>\n",
       "      <th>file_type</th>\n",
       "      <th>file_extension</th>\n",
       "      <th>file_size_in_bytes</th>\n",
       "    </tr>\n",
       "  </thead>\n",
       "  <tbody>\n",
       "    <tr>\n",
       "      <th>457</th>\n",
       "      <td>LM105813</td>\n",
       "      <td>LM105808.psd</td>\n",
       "      <td>/media/monlamai/SSD/LLM-corpus/E-Text/སྡེ་གཞུང...</td>\n",
       "      <td>image/vnd.adobe.photoshop</td>\n",
       "      <td>.psd</td>\n",
       "      <td>30031061</td>\n",
       "    </tr>\n",
       "    <tr>\n",
       "      <th>458</th>\n",
       "      <td>LM105814</td>\n",
       "      <td>LM105809.pdf</td>\n",
       "      <td>/media/monlamai/SSD/LLM-corpus/E-Text/སྡེ་གཞུང...</td>\n",
       "      <td>application/pdf</td>\n",
       "      <td>.pdf</td>\n",
       "      <td>2786994</td>\n",
       "    </tr>\n",
       "    <tr>\n",
       "      <th>459</th>\n",
       "      <td>LM105815</td>\n",
       "      <td>LM105815.psd</td>\n",
       "      <td>/media/monlamai/SSD/LLM-corpus/E-Text/སྡེ་གཞུང...</td>\n",
       "      <td>image/vnd.adobe.photoshop</td>\n",
       "      <td>.psd</td>\n",
       "      <td>11232948</td>\n",
       "    </tr>\n",
       "    <tr>\n",
       "      <th>460</th>\n",
       "      <td>LM105816</td>\n",
       "      <td>LM105813.jpg</td>\n",
       "      <td>/media/monlamai/SSD/LLM-corpus/E-Text/སྡེ་གཞུང...</td>\n",
       "      <td>image/jpeg</td>\n",
       "      <td>.jpg</td>\n",
       "      <td>1030001</td>\n",
       "    </tr>\n",
       "    <tr>\n",
       "      <th>461</th>\n",
       "      <td>LM105817</td>\n",
       "      <td>LM105812.psd</td>\n",
       "      <td>/media/monlamai/SSD/LLM-corpus/E-Text/སྡེ་གཞུང...</td>\n",
       "      <td>image/vnd.adobe.photoshop</td>\n",
       "      <td>.psd</td>\n",
       "      <td>27969100</td>\n",
       "    </tr>\n",
       "  </tbody>\n",
       "</table>\n",
       "</div>"
      ],
      "text/plain": [
       "      file_id     file_name  \\\n",
       "457  LM105813  LM105808.psd   \n",
       "458  LM105814  LM105809.pdf   \n",
       "459  LM105815  LM105815.psd   \n",
       "460  LM105816  LM105813.jpg   \n",
       "461  LM105817  LM105812.psd   \n",
       "\n",
       "                                             file_path  \\\n",
       "457  /media/monlamai/SSD/LLM-corpus/E-Text/སྡེ་གཞུང...   \n",
       "458  /media/monlamai/SSD/LLM-corpus/E-Text/སྡེ་གཞུང...   \n",
       "459  /media/monlamai/SSD/LLM-corpus/E-Text/སྡེ་གཞུང...   \n",
       "460  /media/monlamai/SSD/LLM-corpus/E-Text/སྡེ་གཞུང...   \n",
       "461  /media/monlamai/SSD/LLM-corpus/E-Text/སྡེ་གཞུང...   \n",
       "\n",
       "                     file_type file_extension  file_size_in_bytes  \n",
       "457  image/vnd.adobe.photoshop           .psd            30031061  \n",
       "458            application/pdf           .pdf             2786994  \n",
       "459  image/vnd.adobe.photoshop           .psd            11232948  \n",
       "460                 image/jpeg           .jpg             1030001  \n",
       "461  image/vnd.adobe.photoshop           .psd            27969100  "
      ]
     },
     "execution_count": 26,
     "metadata": {},
     "output_type": "execute_result"
    }
   ],
   "source": [
    "df.tail()"
   ]
  },
  {
   "cell_type": "code",
   "execution_count": 10,
   "metadata": {},
   "outputs": [],
   "source": [
    "df.to_csv('catalog.csv', index=False)"
   ]
  },
  {
   "cell_type": "code",
   "execution_count": null,
   "metadata": {},
   "outputs": [],
   "source": [
    "df['file_extension'].groupby(df['file_extension']).count().sort_values(ascending=False).to_csv('file_extension.csv')\n"
   ]
  },
  {
   "cell_type": "code",
   "execution_count": null,
   "metadata": {},
   "outputs": [],
   "source": [
    "df['file_path'].str.count('/').max()"
   ]
  },
  {
   "cell_type": "code",
   "execution_count": null,
   "metadata": {},
   "outputs": [],
   "source": [
    "df[df['file_path'].str.count('/') == 18].iloc[0, :]['file_path']    "
   ]
  },
  {
   "cell_type": "code",
   "execution_count": null,
   "metadata": {},
   "outputs": [],
   "source": [
    "(df['file_id'] + df['file_extension']).to_csv('file_id.csv', index=False)"
   ]
  },
  {
   "cell_type": "markdown",
   "metadata": {},
   "source": [
    "## Following folder names were renamed due to folder name length error\n",
    "\n",
    "- Tsepak-2023-100/ཁལ་ཁ་རྗེ་བཙུན་དམ་པ་སྐུ་ཕྲེང་དགུ་པ་འཇམ་དཔལ་རྣམ་རྒྱལ་ཆོས་ཀྱི་རྒྱལ་མཚན་གྱི་མཛད་རྣམ། སྟོད་སྨད། ༢\n",
    "- Tsepak-2023-100/ཐོ་ལིང་གཙུག་ལག་ཁང་ལོ་གཅིག་སྟོང་འཁོར་བའི་རྗེས་དྲན་མཛད་སྒོའི་གོ་སྒྲིག་ཚོགས་ཆུང་གིས་དཔར་སྐྲུན་ཞུས་པའོ།། 4\n",
    "- Tsepak-2023-100/དཔལ་མཉམ་མེད་རི་བོ་དགེ་ལྡན་པའི་གསུང་རབ་ཉིང་བཅུད་ཕྱོགས་བསྒྲིགས་རིན་ཆེན་ནོར་བུའི་ཕྲེང་བ། 20\n",
    "- Tsepak-2023-100/དཔལ་རྡོ་རྗེ་སེམས་དཔའ་ཐུགས་ཀྱི་སྒྲུབ་པའི་བསྙེན་སྒྲུབ་ཕྲིན་ལས་ཀྱི་ཆོ་ག་རྣམ་གྲོལ་ལམ་བཟང་ཞེས་བྱ་བ་བཞུགས་སོ། །\n",
    "- Tsepak-2023-100/བོད་ཀྱི་དངོས་མིན་རིག་གནས་ཤུལ་བཞག་རྒྱལ་ཁབ་རིམ་པའི་ཚབ་མཚོན་རྒྱུད་འཛིན་པའི་ངག་འཛོད་ལོ་རྒྱུས། ༡༠\n",
    "- Tsepak-2023-100/མན་ངག་རིན་པོ་ཆེའི་མཛོད་ཀྱི་ཟབ་གསང་སྙིང་པོའི་དོན་རྡོ་རྗེའི་ལྗགས་ཀྱིས་བཀྲལ་བ་སྐྱུད་བྱང་དུ་བསྡུས་པ་གདམས་ཟབ་ནོར་བུའི་གཏེར་མཛོད་ཅེས་བྱ་བ་བཞུགས་སོ།། སྟོད་སྨད། ༢\n",
    "- Tsepak-2023-100/སྤྱི་འཐུས་གྲོས་ཚོགས་ཀྱི་ལས་རིམ་གསར་ཤོག/སྐབས་ ༡༦ པའི་གྲོས་ཚོགས་ཚོགས་དུས་ ༦ པའི་ལས་རིམ་གསར་ཤོག་ཁག སྐབས་ ༡༦ གྲོས་ཚོགས་ཚོགས་དུས་མུ་མཐུད་ནས།\n",
    "- Tsepak-2023-100/སྨན་རིའི་ཡོངས་འཛིན་སློབ་དཔོན་བསྟན་འཛིན་རྣམ་དག་རིན་པོ་ཆེའི་གསུང་འབུམ། བཤེར་འབེབས་ཐེངས་གཉིས་པ། 13\n",
    "\n",
    "## the renamed shorthand are\n",
    "- Tsepak-2023-100/ཁལ་ཁ་རྗེ་བཙུན་དམ་པ་སྐུ་ཕྲེང་དགུ་པ་\n",
    "- Tsepak-2023-100/ཐོ་ལིང་གཙུག་ལག་ཁང་ལོ་གཅིག་སྟོང་འཁོར་བའི་རྗེས་དྲན་\n",
    "- Tsepak-2023-100/རི་བོ་དགེ་ལྡན་པའི་གསུང་རབ་ཉིང་བཅུད་ཕྱོགས་བསྒྲིགས་\n",
    "- Tsepak-2023-100/ཆོ་ག་རྣམ་གྲོལ་ལམ་བཟང་\n",
    "- Tsepak-2023-100/བོད་ཀྱི་དངོས་མིན་རིག་གནས་ཤུལ་བཞག་རྒྱལ་ཁབ་\n",
    "- Tsepak-2023-100/མན་ངག་རིན་པོ་ཆེའི་མཛོད་ཀྱི་ཟབ་གསང་སྙིང་པོའི་དོན་རྡོ་རྗེའི་ལྗགས་\n",
    "- Tsepak-2023-100/སྤྱི་འཐུས་གྲོས་ཚོགས་ཀྱི་ལས་རིམ་གསར་ཤོག/སྐབས་ ༡༦ པའི་གྲོས་ཚོགས་ཚོགས་དུས་ ༦ མུ་མཐུད་ནས།\n",
    "- Tsepak-2023-100/སྨན་རིའི་ཡོངས་འཛིན་སློབ་དཔོན་བསྟན་འཛིན་རྣམ་དག་"
   ]
  },
  {
   "cell_type": "markdown",
   "metadata": {},
   "source": []
  }
 ],
 "metadata": {
  "kernelspec": {
   "display_name": ".env",
   "language": "python",
   "name": "python3"
  },
  "language_info": {
   "codemirror_mode": {
    "name": "ipython",
    "version": 3
   },
   "file_extension": ".py",
   "mimetype": "text/x-python",
   "name": "python",
   "nbconvert_exporter": "python",
   "pygments_lexer": "ipython3",
   "version": "3.10.12"
  }
 },
 "nbformat": 4,
 "nbformat_minor": 2
}
